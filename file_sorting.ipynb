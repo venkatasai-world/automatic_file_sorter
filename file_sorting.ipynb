{
 "cells": [
  {
   "cell_type": "code",
   "execution_count": 3,
   "id": "369fc5e8-a989-4d8b-aac9-e0574f3110dd",
   "metadata": {},
   "outputs": [],
   "source": [
    "import os,shutil"
   ]
  },
  {
   "cell_type": "code",
   "execution_count": 12,
   "id": "19306d80-f400-4f2a-a14f-2ac06102f01f",
   "metadata": {},
   "outputs": [],
   "source": [
    "path=r'C:/Users/VENKATA SAI/Desktop/javaDays/'"
   ]
  },
  {
   "cell_type": "code",
   "execution_count": 15,
   "id": "9d10fa90-160a-4bf9-9388-085c57e43d8c",
   "metadata": {},
   "outputs": [],
   "source": [
    "file_names=os.listdir(path)"
   ]
  },
  {
   "cell_type": "code",
   "execution_count": 16,
   "id": "33317cf6-4436-4c4c-8179-d19d2ea368c4",
   "metadata": {},
   "outputs": [],
   "source": [
    "folder_names=['pythonfiles','image files','another files']\n",
    "for loop in range(3):\n",
    "    if not os.path.exists(path+folder_names[loop]):\n",
    "        print((path+folder_names[loop]))\n",
    "        os.makedirs(path+folder_names[loop])"
   ]
  },
  {
   "cell_type": "code",
   "execution_count": 21,
   "id": "e6892e61-0d8f-4ad6-bf3e-95da30a2aa80",
   "metadata": {},
   "outputs": [],
   "source": [
    "for file in file_names:\n",
    "    if \".py\" in file and not os.path.exists(path+\"pythonfiles/\"+file):\n",
    "        shutil.move(path+file,path+\"pythonfiles/\"+file)\n",
    "    elif \".png\" in file and not os.path.exists(path+\"image files/\"+file):\n",
    "        shutil.move(path+file,path+\"image files/\"+file)\n",
    "    elif \".txt\" in file and not os.path.exists(path+\"another files/\"+file):\n",
    "        shutil.move(path+file,path+\"another files/\"+file)\n",
    "    # else:\n",
    "    #     print(\"this is file type does not esist \")\n",
    "    \n",
    "        "
   ]
  },
  {
   "cell_type": "code",
   "execution_count": null,
   "id": "46ae1ee0-0aa2-4467-bfcc-2d94d1ee5be9",
   "metadata": {},
   "outputs": [],
   "source": []
  },
  {
   "cell_type": "code",
   "execution_count": null,
   "id": "905e9f85-08c7-4786-b080-79ae925c454d",
   "metadata": {},
   "outputs": [],
   "source": []
  },
  {
   "cell_type": "code",
   "execution_count": null,
   "id": "c54b7394-eabd-4a34-8398-e42d1719e0a1",
   "metadata": {},
   "outputs": [],
   "source": []
  }
 ],
 "metadata": {
  "kernelspec": {
   "display_name": "Python 3 (ipykernel)",
   "language": "python",
   "name": "python3"
  },
  "language_info": {
   "codemirror_mode": {
    "name": "ipython",
    "version": 3
   },
   "file_extension": ".py",
   "mimetype": "text/x-python",
   "name": "python",
   "nbconvert_exporter": "python",
   "pygments_lexer": "ipython3",
   "version": "3.13.5"
  }
 },
 "nbformat": 4,
 "nbformat_minor": 5
}
